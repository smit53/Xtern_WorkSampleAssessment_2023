{
 "cells": [
  {
   "cell_type": "code",
   "execution_count": 1,
   "id": "793541dc",
   "metadata": {},
   "outputs": [],
   "source": [
    "import requests\n",
    "import pandas as pd\n",
    "import json"
   ]
  },
  {
   "cell_type": "code",
   "execution_count": 2,
   "id": "51935d3b",
   "metadata": {},
   "outputs": [],
   "source": [
    "api_key = ''\n",
    "\n",
    "# here we get all the details we need except for the website of the places.\n",
    "def get_all_details(query):\n",
    "    res = requests.get(f'https://maps.googleapis.com/maps/api/place/textsearch/json?query={query}&key={api_key}')\n",
    "    x = json.loads(res.text)\n",
    "    y = x['results']\n",
    "    return y"
   ]
  },
  {
   "cell_type": "code",
   "execution_count": 3,
   "id": "e6f0502a",
   "metadata": {},
   "outputs": [],
   "source": [
    "places = []\n",
    "# calling the above function to store all the places in the 'places' list\n",
    "for _ in ['stores,Indianapolis','cafes,Indianapolis','things to do,Indianapolis','parks,Indianapolis','food,Indianapolis','restaurants,Indianapolis','museums,Indianapolis']:\n",
    "    places.extend(get_all_details(_))"
   ]
  },
  {
   "cell_type": "code",
   "execution_count": 4,
   "id": "d70fbfed",
   "metadata": {},
   "outputs": [],
   "source": [
    "# function to get websites\n",
    "def get_websites(places):\n",
    "    for i in range(len(places)):\n",
    "        url = f\"https://maps.googleapis.com/maps/api/place/details/json?place_id={places[i]['place_id']}&key={api_key}\"\n",
    "\n",
    "        payload={}\n",
    "        headers = {}\n",
    "\n",
    "        response = requests.request(\"GET\", url, headers=headers, data=payload)\n",
    "\n",
    "        places[i]['details'] = response.json()['result']\n",
    "get_websites(places)"
   ]
  },
  {
   "cell_type": "code",
   "execution_count": null,
   "id": "8c80c1c1",
   "metadata": {},
   "outputs": [],
   "source": [
    "df = pd.DataFrame()\n",
    "# creating a dataframe out of the above json of places\n",
    "for _ in places:\n",
    "    df = df.append(_,ignore_index=True)"
   ]
  },
  {
   "cell_type": "code",
   "execution_count": 6,
   "id": "d256f9bc",
   "metadata": {},
   "outputs": [
    {
     "data": {
      "text/html": [
       "<div>\n",
       "<style scoped>\n",
       "    .dataframe tbody tr th:only-of-type {\n",
       "        vertical-align: middle;\n",
       "    }\n",
       "\n",
       "    .dataframe tbody tr th {\n",
       "        vertical-align: top;\n",
       "    }\n",
       "\n",
       "    .dataframe thead th {\n",
       "        text-align: right;\n",
       "    }\n",
       "</style>\n",
       "<table border=\"1\" class=\"dataframe\">\n",
       "  <thead>\n",
       "    <tr style=\"text-align: right;\">\n",
       "      <th></th>\n",
       "      <th>business_status</th>\n",
       "      <th>formatted_address</th>\n",
       "      <th>geometry</th>\n",
       "      <th>icon</th>\n",
       "      <th>icon_background_color</th>\n",
       "      <th>icon_mask_base_uri</th>\n",
       "      <th>name</th>\n",
       "      <th>opening_hours</th>\n",
       "      <th>photos</th>\n",
       "      <th>place_id</th>\n",
       "      <th>plus_code</th>\n",
       "      <th>rating</th>\n",
       "      <th>reference</th>\n",
       "      <th>types</th>\n",
       "      <th>user_ratings_total</th>\n",
       "      <th>details</th>\n",
       "      <th>price_level</th>\n",
       "    </tr>\n",
       "  </thead>\n",
       "  <tbody>\n",
       "    <tr>\n",
       "      <th>0</th>\n",
       "      <td>OPERATIONAL</td>\n",
       "      <td>10202 E Washington St Suite 800, Indianapolis,...</td>\n",
       "      <td>{'location': {'lat': 39.77812490000001, 'lng':...</td>\n",
       "      <td>https://maps.gstatic.com/mapfiles/place_api/ic...</td>\n",
       "      <td>#4B96F3</td>\n",
       "      <td>https://maps.gstatic.com/mapfiles/place_api/ic...</td>\n",
       "      <td>Resell Indy</td>\n",
       "      <td>{'open_now': True}</td>\n",
       "      <td>[{'height': 721, 'html_attributions': ['&lt;a hre...</td>\n",
       "      <td>ChIJYfIXDMBJa4gRoArANFdbQwE</td>\n",
       "      <td>{'compound_code': 'Q2H7+6G Indianapolis, India...</td>\n",
       "      <td>4.8</td>\n",
       "      <td>ChIJYfIXDMBJa4gRoArANFdbQwE</td>\n",
       "      <td>[bicycle_store, furniture_store, electronics_s...</td>\n",
       "      <td>226</td>\n",
       "      <td>{'address_components': [{'long_name': 'Suite 8...</td>\n",
       "      <td>NaN</td>\n",
       "    </tr>\n",
       "    <tr>\n",
       "      <th>1</th>\n",
       "      <td>OPERATIONAL</td>\n",
       "      <td>431 Massachusetts Ave, Indianapolis, IN 46204,...</td>\n",
       "      <td>{'location': {'lat': 39.7732155, 'lng': -86.15...</td>\n",
       "      <td>https://maps.gstatic.com/mapfiles/place_api/ic...</td>\n",
       "      <td>#4B96F3</td>\n",
       "      <td>https://maps.gstatic.com/mapfiles/place_api/ic...</td>\n",
       "      <td>Sage Boutique</td>\n",
       "      <td>{'open_now': False}</td>\n",
       "      <td>[{'height': 3025, 'html_attributions': ['&lt;a hr...</td>\n",
       "      <td>ChIJ7R-QxpRQa4gROoaT_OWgFK8</td>\n",
       "      <td>{'compound_code': 'QRFX+7F Indianapolis, India...</td>\n",
       "      <td>3.5</td>\n",
       "      <td>ChIJ7R-QxpRQa4gROoaT_OWgFK8</td>\n",
       "      <td>[clothing_store, store, point_of_interest, est...</td>\n",
       "      <td>8</td>\n",
       "      <td>{'address_components': [{'long_name': '431', '...</td>\n",
       "      <td>NaN</td>\n",
       "    </tr>\n",
       "    <tr>\n",
       "      <th>2</th>\n",
       "      <td>OPERATIONAL</td>\n",
       "      <td>50 N Illinois St, Indianapolis, IN 46204, Unit...</td>\n",
       "      <td>{'location': {'lat': 39.7681947, 'lng': -86.16...</td>\n",
       "      <td>https://maps.gstatic.com/mapfiles/place_api/ic...</td>\n",
       "      <td>#4B96F3</td>\n",
       "      <td>https://maps.gstatic.com/mapfiles/place_api/ic...</td>\n",
       "      <td>T.J. Maxx</td>\n",
       "      <td>{'open_now': True}</td>\n",
       "      <td>[{'height': 4032, 'html_attributions': ['&lt;a hr...</td>\n",
       "      <td>ChIJ5_QjCLxQa4gR3Mv5MUbcaZo</td>\n",
       "      <td>{'compound_code': 'QR9Q+7X Indianapolis, India...</td>\n",
       "      <td>4.1</td>\n",
       "      <td>ChIJ5_QjCLxQa4gR3Mv5MUbcaZo</td>\n",
       "      <td>[department_store, jewelry_store, clothing_sto...</td>\n",
       "      <td>1027</td>\n",
       "      <td>{'address_components': [{'long_name': '50', 's...</td>\n",
       "      <td>1.0</td>\n",
       "    </tr>\n",
       "    <tr>\n",
       "      <th>3</th>\n",
       "      <td>OPERATIONAL</td>\n",
       "      <td>10202 E Washington St, Indianapolis, IN 46229,...</td>\n",
       "      <td>{'location': {'lat': 39.7771842, 'lng': -85.98...</td>\n",
       "      <td>https://maps.gstatic.com/mapfiles/place_api/ic...</td>\n",
       "      <td>#4B96F3</td>\n",
       "      <td>https://maps.gstatic.com/mapfiles/place_api/ic...</td>\n",
       "      <td>Target</td>\n",
       "      <td>{'open_now': True}</td>\n",
       "      <td>[{'height': 3024, 'html_attributions': ['&lt;a hr...</td>\n",
       "      <td>ChIJlemUMulIa4gRitjr2v3bwKo</td>\n",
       "      <td>{'compound_code': 'Q2G7+VJ Indianapolis, India...</td>\n",
       "      <td>4.2</td>\n",
       "      <td>ChIJlemUMulIa4gRitjr2v3bwKo</td>\n",
       "      <td>[department_store, furniture_store, electronic...</td>\n",
       "      <td>242</td>\n",
       "      <td>{'address_components': [{'long_name': '10202',...</td>\n",
       "      <td>2.0</td>\n",
       "    </tr>\n",
       "    <tr>\n",
       "      <th>4</th>\n",
       "      <td>OPERATIONAL</td>\n",
       "      <td>434 Massachusetts Ave, Indianapolis, IN 46204,...</td>\n",
       "      <td>{'location': {'lat': 39.7733294, 'lng': -86.15...</td>\n",
       "      <td>https://maps.gstatic.com/mapfiles/place_api/ic...</td>\n",
       "      <td>#4B96F3</td>\n",
       "      <td>https://maps.gstatic.com/mapfiles/place_api/ic...</td>\n",
       "      <td>Silver In the City</td>\n",
       "      <td>{'open_now': True}</td>\n",
       "      <td>[{'height': 3264, 'html_attributions': ['&lt;a hr...</td>\n",
       "      <td>ChIJPa20z5RQa4gRBxopfp56RIk</td>\n",
       "      <td>{'compound_code': 'QRFX+98 Indianapolis, India...</td>\n",
       "      <td>4.7</td>\n",
       "      <td>ChIJPa20z5RQa4gRBxopfp56RIk</td>\n",
       "      <td>[home_goods_store, jewelry_store, store, point...</td>\n",
       "      <td>414</td>\n",
       "      <td>{'address_components': [{'long_name': '434', '...</td>\n",
       "      <td>NaN</td>\n",
       "    </tr>\n",
       "    <tr>\n",
       "      <th>5</th>\n",
       "      <td>OPERATIONAL</td>\n",
       "      <td>845B Massachusetts Ave, Indianapolis, IN 46204...</td>\n",
       "      <td>{'location': {'lat': 39.7785344, 'lng': -86.14...</td>\n",
       "      <td>https://maps.gstatic.com/mapfiles/place_api/ic...</td>\n",
       "      <td>#4B96F3</td>\n",
       "      <td>https://maps.gstatic.com/mapfiles/place_api/ic...</td>\n",
       "      <td>Boomerang Boutique</td>\n",
       "      <td>{'open_now': False}</td>\n",
       "      <td>[{'height': 960, 'html_attributions': ['&lt;a hre...</td>\n",
       "      <td>ChIJ60o7A_JQa4gRu7FHqHA__54</td>\n",
       "      <td>{'compound_code': 'QVH4+CG Indianapolis, India...</td>\n",
       "      <td>4.9</td>\n",
       "      <td>ChIJ60o7A_JQa4gRu7FHqHA__54</td>\n",
       "      <td>[home_goods_store, clothing_store, store, poin...</td>\n",
       "      <td>72</td>\n",
       "      <td>{'address_components': [{'long_name': '845B', ...</td>\n",
       "      <td>NaN</td>\n",
       "    </tr>\n",
       "  </tbody>\n",
       "</table>\n",
       "</div>"
      ],
      "text/plain": [
       "  business_status                                  formatted_address  \\\n",
       "0     OPERATIONAL  10202 E Washington St Suite 800, Indianapolis,...   \n",
       "1     OPERATIONAL  431 Massachusetts Ave, Indianapolis, IN 46204,...   \n",
       "2     OPERATIONAL  50 N Illinois St, Indianapolis, IN 46204, Unit...   \n",
       "3     OPERATIONAL  10202 E Washington St, Indianapolis, IN 46229,...   \n",
       "4     OPERATIONAL  434 Massachusetts Ave, Indianapolis, IN 46204,...   \n",
       "5     OPERATIONAL  845B Massachusetts Ave, Indianapolis, IN 46204...   \n",
       "\n",
       "                                            geometry  \\\n",
       "0  {'location': {'lat': 39.77812490000001, 'lng':...   \n",
       "1  {'location': {'lat': 39.7732155, 'lng': -86.15...   \n",
       "2  {'location': {'lat': 39.7681947, 'lng': -86.16...   \n",
       "3  {'location': {'lat': 39.7771842, 'lng': -85.98...   \n",
       "4  {'location': {'lat': 39.7733294, 'lng': -86.15...   \n",
       "5  {'location': {'lat': 39.7785344, 'lng': -86.14...   \n",
       "\n",
       "                                                icon icon_background_color  \\\n",
       "0  https://maps.gstatic.com/mapfiles/place_api/ic...               #4B96F3   \n",
       "1  https://maps.gstatic.com/mapfiles/place_api/ic...               #4B96F3   \n",
       "2  https://maps.gstatic.com/mapfiles/place_api/ic...               #4B96F3   \n",
       "3  https://maps.gstatic.com/mapfiles/place_api/ic...               #4B96F3   \n",
       "4  https://maps.gstatic.com/mapfiles/place_api/ic...               #4B96F3   \n",
       "5  https://maps.gstatic.com/mapfiles/place_api/ic...               #4B96F3   \n",
       "\n",
       "                                  icon_mask_base_uri                name  \\\n",
       "0  https://maps.gstatic.com/mapfiles/place_api/ic...         Resell Indy   \n",
       "1  https://maps.gstatic.com/mapfiles/place_api/ic...       Sage Boutique   \n",
       "2  https://maps.gstatic.com/mapfiles/place_api/ic...           T.J. Maxx   \n",
       "3  https://maps.gstatic.com/mapfiles/place_api/ic...              Target   \n",
       "4  https://maps.gstatic.com/mapfiles/place_api/ic...  Silver In the City   \n",
       "5  https://maps.gstatic.com/mapfiles/place_api/ic...  Boomerang Boutique   \n",
       "\n",
       "         opening_hours                                             photos  \\\n",
       "0   {'open_now': True}  [{'height': 721, 'html_attributions': ['<a hre...   \n",
       "1  {'open_now': False}  [{'height': 3025, 'html_attributions': ['<a hr...   \n",
       "2   {'open_now': True}  [{'height': 4032, 'html_attributions': ['<a hr...   \n",
       "3   {'open_now': True}  [{'height': 3024, 'html_attributions': ['<a hr...   \n",
       "4   {'open_now': True}  [{'height': 3264, 'html_attributions': ['<a hr...   \n",
       "5  {'open_now': False}  [{'height': 960, 'html_attributions': ['<a hre...   \n",
       "\n",
       "                      place_id  \\\n",
       "0  ChIJYfIXDMBJa4gRoArANFdbQwE   \n",
       "1  ChIJ7R-QxpRQa4gROoaT_OWgFK8   \n",
       "2  ChIJ5_QjCLxQa4gR3Mv5MUbcaZo   \n",
       "3  ChIJlemUMulIa4gRitjr2v3bwKo   \n",
       "4  ChIJPa20z5RQa4gRBxopfp56RIk   \n",
       "5  ChIJ60o7A_JQa4gRu7FHqHA__54   \n",
       "\n",
       "                                           plus_code  rating  \\\n",
       "0  {'compound_code': 'Q2H7+6G Indianapolis, India...     4.8   \n",
       "1  {'compound_code': 'QRFX+7F Indianapolis, India...     3.5   \n",
       "2  {'compound_code': 'QR9Q+7X Indianapolis, India...     4.1   \n",
       "3  {'compound_code': 'Q2G7+VJ Indianapolis, India...     4.2   \n",
       "4  {'compound_code': 'QRFX+98 Indianapolis, India...     4.7   \n",
       "5  {'compound_code': 'QVH4+CG Indianapolis, India...     4.9   \n",
       "\n",
       "                     reference  \\\n",
       "0  ChIJYfIXDMBJa4gRoArANFdbQwE   \n",
       "1  ChIJ7R-QxpRQa4gROoaT_OWgFK8   \n",
       "2  ChIJ5_QjCLxQa4gR3Mv5MUbcaZo   \n",
       "3  ChIJlemUMulIa4gRitjr2v3bwKo   \n",
       "4  ChIJPa20z5RQa4gRBxopfp56RIk   \n",
       "5  ChIJ60o7A_JQa4gRu7FHqHA__54   \n",
       "\n",
       "                                               types  user_ratings_total  \\\n",
       "0  [bicycle_store, furniture_store, electronics_s...                 226   \n",
       "1  [clothing_store, store, point_of_interest, est...                   8   \n",
       "2  [department_store, jewelry_store, clothing_sto...                1027   \n",
       "3  [department_store, furniture_store, electronic...                 242   \n",
       "4  [home_goods_store, jewelry_store, store, point...                 414   \n",
       "5  [home_goods_store, clothing_store, store, poin...                  72   \n",
       "\n",
       "                                             details  price_level  \n",
       "0  {'address_components': [{'long_name': 'Suite 8...          NaN  \n",
       "1  {'address_components': [{'long_name': '431', '...          NaN  \n",
       "2  {'address_components': [{'long_name': '50', 's...          1.0  \n",
       "3  {'address_components': [{'long_name': '10202',...          2.0  \n",
       "4  {'address_components': [{'long_name': '434', '...          NaN  \n",
       "5  {'address_components': [{'long_name': '845B', ...          NaN  "
      ]
     },
     "execution_count": 6,
     "metadata": {},
     "output_type": "execute_result"
    }
   ],
   "source": [
    "df.head(6)"
   ]
  },
  {
   "cell_type": "code",
   "execution_count": 21,
   "id": "0865a526",
   "metadata": {},
   "outputs": [],
   "source": [
    "# droping unnecessary columns\n",
    "df = df.drop(columns=['business_status','geometry', 'icon', 'icon_background_color', 'icon_mask_base_uri', 'opening_hours', 'photos', 'place_id', 'plus_code', 'reference', 'user_ratings_total', 'price_level'])"
   ]
  },
  {
   "cell_type": "code",
   "execution_count": null,
   "id": "8623c3d1",
   "metadata": {
    "scrolled": true
   },
   "outputs": [],
   "source": [
    "#extracting all websites from the details column\n",
    "for _ in range(len(df['details'])):\n",
    "    if 'website' not in df['details'][_].keys():\n",
    "        df['details'][_] = None\n",
    "    else:\n",
    "        df['details'][_] = df['details'][_]['website']"
   ]
  },
  {
   "cell_type": "code",
   "execution_count": 23,
   "id": "c4313b6f",
   "metadata": {},
   "outputs": [],
   "source": [
    "# renaming the details column to website\n",
    "df.rename(columns = {'details':'website'}, inplace = True)"
   ]
  },
  {
   "cell_type": "code",
   "execution_count": 24,
   "id": "42b9f463",
   "metadata": {},
   "outputs": [],
   "source": [
    "# droping null values\n",
    "df = df.dropna()"
   ]
  },
  {
   "cell_type": "code",
   "execution_count": 25,
   "id": "c0545c57",
   "metadata": {
    "scrolled": true
   },
   "outputs": [
    {
     "data": {
      "text/plain": [
       "formatted_address    0\n",
       "name                 0\n",
       "rating               0\n",
       "types                0\n",
       "website              0\n",
       "dtype: int64"
      ]
     },
     "execution_count": 25,
     "metadata": {},
     "output_type": "execute_result"
    }
   ],
   "source": [
    "# checking if null values are removed or not\n",
    "df.isnull().sum()"
   ]
  },
  {
   "cell_type": "code",
   "execution_count": 26,
   "id": "55d5d395",
   "metadata": {
    "scrolled": true
   },
   "outputs": [],
   "source": [
    "# resetting index after droping columns\n",
    "df = df.reset_index()\n",
    "df = df.drop(columns=['index'])"
   ]
  },
  {
   "cell_type": "code",
   "execution_count": 27,
   "id": "cc25b917",
   "metadata": {},
   "outputs": [
    {
     "name": "stdout",
     "output_type": "stream",
     "text": [
      "{'meal_delivery', 'bicycle_store', 'hardware_store', 'tourist_attraction', 'museum', 'clothing_store', 'department_store', 'meal_takeaway', 'restaurant', 'store', 'establishment', 'furniture_store', 'grocery_or_supermarket', 'bakery', 'art_gallery', 'home_goods_store', 'park', 'point_of_interest', 'library', 'food', 'jewelry_store', 'electronics_store', 'aquarium', 'bar', 'shoe_store', 'cafe', 'school', 'zoo'}\n"
     ]
    }
   ],
   "source": [
    "# printing set of list of idividual categories present in the types column\n",
    "print(set(sum((list(df['types'])),[])))"
   ]
  },
  {
   "cell_type": "code",
   "execution_count": null,
   "id": "c8d9a6b2",
   "metadata": {},
   "outputs": [],
   "source": [
    "# re naming the category the  datapoint belongs to\n",
    "for _ in range(len(df['types'])):\n",
    "    if 'tourist_attraction' in df['types'][_] or 'museum' in df['types'][_] or 'aquarium' in df['types'][_] or 'art_gallery' in df['types'][_] or 'library' in df['types'][_] or 'park' in df['types'][_] or 'school' in df['types'][_] or 'zoo' in df['types'][_]:\n",
    "        df['types'][_] = 'Tour'\n",
    "    elif 'clothing_store' in df['types'][_] or 'department_store' in df['types'][_] or 'jewelry_store' in df['types'][_] or 'store' in df['types'][_] or 'grocery_or_supermarket' in df['types'][_] or 'electronics_store' in df['types'][_] or 'furniture_store' in df['types'][_] or 'home_goods_store' in df['types'][_] or 'shoe_store' in df['types'][_]: \n",
    "        df['types'][_] = 'Shopping'\n",
    "        \n",
    "    elif 'food' in df['types'][_] or 'bar' in df['types'][_] or 'meal_delivery' in df['types'][_] or 'meal_takeaway' in df['types'][_] or 'restaurant' in df['types'][_]:\n",
    "        df['types'][_] = 'Food'"
   ]
  },
  {
   "cell_type": "code",
   "execution_count": 29,
   "id": "cab1c818",
   "metadata": {},
   "outputs": [
    {
     "data": {
      "text/html": [
       "<div>\n",
       "<style scoped>\n",
       "    .dataframe tbody tr th:only-of-type {\n",
       "        vertical-align: middle;\n",
       "    }\n",
       "\n",
       "    .dataframe tbody tr th {\n",
       "        vertical-align: top;\n",
       "    }\n",
       "\n",
       "    .dataframe thead th {\n",
       "        text-align: right;\n",
       "    }\n",
       "</style>\n",
       "<table border=\"1\" class=\"dataframe\">\n",
       "  <thead>\n",
       "    <tr style=\"text-align: right;\">\n",
       "      <th></th>\n",
       "      <th>formatted_address</th>\n",
       "      <th>name</th>\n",
       "      <th>rating</th>\n",
       "      <th>types</th>\n",
       "      <th>website</th>\n",
       "    </tr>\n",
       "  </thead>\n",
       "  <tbody>\n",
       "    <tr>\n",
       "      <th>0</th>\n",
       "      <td>10202 E Washington St Suite 800, Indianapolis,...</td>\n",
       "      <td>Resell Indy</td>\n",
       "      <td>4.8</td>\n",
       "      <td>Shopping</td>\n",
       "      <td>http://www.resellindy.com/</td>\n",
       "    </tr>\n",
       "    <tr>\n",
       "      <th>1</th>\n",
       "      <td>431 Massachusetts Ave, Indianapolis, IN 46204,...</td>\n",
       "      <td>Sage Boutique</td>\n",
       "      <td>3.5</td>\n",
       "      <td>Shopping</td>\n",
       "      <td>http://sagemassave.tumblr.com/</td>\n",
       "    </tr>\n",
       "    <tr>\n",
       "      <th>2</th>\n",
       "      <td>50 N Illinois St, Indianapolis, IN 46204, Unit...</td>\n",
       "      <td>T.J. Maxx</td>\n",
       "      <td>4.1</td>\n",
       "      <td>Shopping</td>\n",
       "      <td>https://tjmaxx.tjx.com/store/index.jsp</td>\n",
       "    </tr>\n",
       "    <tr>\n",
       "      <th>3</th>\n",
       "      <td>10202 E Washington St, Indianapolis, IN 46229,...</td>\n",
       "      <td>Target</td>\n",
       "      <td>4.2</td>\n",
       "      <td>Shopping</td>\n",
       "      <td>https://www.target.com/sl/washington-square/1214</td>\n",
       "    </tr>\n",
       "    <tr>\n",
       "      <th>4</th>\n",
       "      <td>434 Massachusetts Ave, Indianapolis, IN 46204,...</td>\n",
       "      <td>Silver In the City</td>\n",
       "      <td>4.7</td>\n",
       "      <td>Shopping</td>\n",
       "      <td>http://www.silverinthecity.com/</td>\n",
       "    </tr>\n",
       "    <tr>\n",
       "      <th>5</th>\n",
       "      <td>845B Massachusetts Ave, Indianapolis, IN 46204...</td>\n",
       "      <td>Boomerang Boutique</td>\n",
       "      <td>4.9</td>\n",
       "      <td>Shopping</td>\n",
       "      <td>https://www.boomerangboutique.com/</td>\n",
       "    </tr>\n",
       "  </tbody>\n",
       "</table>\n",
       "</div>"
      ],
      "text/plain": [
       "                                   formatted_address                name  \\\n",
       "0  10202 E Washington St Suite 800, Indianapolis,...         Resell Indy   \n",
       "1  431 Massachusetts Ave, Indianapolis, IN 46204,...       Sage Boutique   \n",
       "2  50 N Illinois St, Indianapolis, IN 46204, Unit...           T.J. Maxx   \n",
       "3  10202 E Washington St, Indianapolis, IN 46229,...              Target   \n",
       "4  434 Massachusetts Ave, Indianapolis, IN 46204,...  Silver In the City   \n",
       "5  845B Massachusetts Ave, Indianapolis, IN 46204...  Boomerang Boutique   \n",
       "\n",
       "   rating     types                                           website  \n",
       "0     4.8  Shopping                        http://www.resellindy.com/  \n",
       "1     3.5  Shopping                    http://sagemassave.tumblr.com/  \n",
       "2     4.1  Shopping            https://tjmaxx.tjx.com/store/index.jsp  \n",
       "3     4.2  Shopping  https://www.target.com/sl/washington-square/1214  \n",
       "4     4.7  Shopping                   http://www.silverinthecity.com/  \n",
       "5     4.9  Shopping                https://www.boomerangboutique.com/  "
      ]
     },
     "execution_count": 29,
     "metadata": {},
     "output_type": "execute_result"
    }
   ],
   "source": [
    "# final dataframe\n",
    "df.head(6)"
   ]
  },
  {
   "cell_type": "markdown",
   "id": "72adb276",
   "metadata": {},
   "source": [
    "EDA"
   ]
  },
  {
   "cell_type": "code",
   "execution_count": 14,
   "id": "9a6d1fa9",
   "metadata": {},
   "outputs": [],
   "source": [
    "import seaborn as sns"
   ]
  },
  {
   "cell_type": "code",
   "execution_count": 15,
   "id": "0191c4df",
   "metadata": {},
   "outputs": [
    {
     "data": {
      "text/plain": [
       "<AxesSubplot: xlabel='rating', ylabel='Count'>"
      ]
     },
     "execution_count": 15,
     "metadata": {},
     "output_type": "execute_result"
    },
    {
     "data": {
      "image/png": "[encoded data removed]",
      "text/plain": [
       "<Figure size 640x480 with 1 Axes>"
      ]
     },
     "metadata": {},
     "output_type": "display_data"
    }
   ],
   "source": [
    "sns.histplot(x=df[\"rating\"])"
   ]
  },
  {
   "cell_type": "code",
   "execution_count": 16,
   "id": "dac2f87d",
   "metadata": {
    "scrolled": true
   },
   "outputs": [
    {
     "data": {
      "text/plain": [
       "<AxesSubplot: xlabel='rating', ylabel='types'>"
      ]
     },
     "execution_count": 16,
     "metadata": {},
     "output_type": "execute_result"
    },
    {
     "data": {
      "image/png": "[encoded data removed]",
      "text/plain": [
       "<Figure size 640x480 with 1 Axes>"
      ]
     },
     "metadata": {},
     "output_type": "display_data"
    }
   ],
   "source": [
    "sns.boxplot(x=df[\"rating\"], y=df[\"types\"])"
   ]
  },
  {
   "cell_type": "code",
   "execution_count": 17,
   "id": "8bef817a",
   "metadata": {},
   "outputs": [],
   "source": [
    "df = df.loc[df['rating'] != 0]"
   ]
  },
  {
   "cell_type": "code",
   "execution_count": 18,
   "id": "783fddaa",
   "metadata": {},
   "outputs": [
    {
     "data": {
      "text/plain": [
       "<AxesSubplot: xlabel='rating', ylabel='types'>"
      ]
     },
     "execution_count": 18,
     "metadata": {},
     "output_type": "execute_result"
    },
    {
     "data": {
      "image/png": "[encoded data removed]",
      "text/plain": [
       "<Figure size 640x480 with 1 Axes>"
      ]
     },
     "metadata": {},
     "output_type": "display_data"
    }
   ],
   "source": [
    "sns.boxplot(x=df[\"rating\"], y=df[\"types\"])"
   ]
  }
 ],
 "metadata": {
  "kernelspec": {
   "display_name": "Python 3 (ipykernel)",
   "language": "python",
   "name": "python3"
  },
  "language_info": {
   "codemirror_mode": {
    "name": "ipython",
    "version": 3
   },
   "file_extension": ".py",
   "mimetype": "text/x-python",
   "name": "python",
   "nbconvert_exporter": "python",
   "pygments_lexer": "ipython3",
   "version": "3.10.8"
  }
 },
 "nbformat": 4,
 "nbformat_minor": 5
}
